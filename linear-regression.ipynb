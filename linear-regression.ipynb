{
 "cells": [
  {
   "cell_type": "markdown",
   "metadata": {},
   "source": [
    "# Linear Regression"
   ]
  },
  {
   "cell_type": "markdown",
   "metadata": {},
   "source": [
    "# 1. Basic"
   ]
  },
  {
   "cell_type": "markdown",
   "metadata": {},
   "source": [
    "### 1.1 Linear Regression Đơn Giản"
   ]
  },
  {
   "cell_type": "code",
   "execution_count": 5,
   "metadata": {},
   "outputs": [
    {
     "data": {
      "text/html": [
       "<div>\n",
       "<style scoped>\n",
       "    .dataframe tbody tr th:only-of-type {\n",
       "        vertical-align: middle;\n",
       "    }\n",
       "\n",
       "    .dataframe tbody tr th {\n",
       "        vertical-align: top;\n",
       "    }\n",
       "\n",
       "    .dataframe thead th {\n",
       "        text-align: right;\n",
       "    }\n",
       "</style>\n",
       "<table border=\"1\" class=\"dataframe\">\n",
       "  <thead>\n",
       "    <tr style=\"text-align: right;\">\n",
       "      <th></th>\n",
       "      <th>hours_studied</th>\n",
       "      <th>scores</th>\n",
       "    </tr>\n",
       "  </thead>\n",
       "  <tbody>\n",
       "    <tr>\n",
       "      <th>0</th>\n",
       "      <td>2</td>\n",
       "      <td>50</td>\n",
       "    </tr>\n",
       "    <tr>\n",
       "      <th>1</th>\n",
       "      <td>3</td>\n",
       "      <td>60</td>\n",
       "    </tr>\n",
       "    <tr>\n",
       "      <th>2</th>\n",
       "      <td>4</td>\n",
       "      <td>65</td>\n",
       "    </tr>\n",
       "    <tr>\n",
       "      <th>3</th>\n",
       "      <td>5</td>\n",
       "      <td>70</td>\n",
       "    </tr>\n",
       "    <tr>\n",
       "      <th>4</th>\n",
       "      <td>6</td>\n",
       "      <td>80</td>\n",
       "    </tr>\n",
       "  </tbody>\n",
       "</table>\n",
       "</div>"
      ],
      "text/plain": [
       "   hours_studied  scores\n",
       "0              2      50\n",
       "1              3      60\n",
       "2              4      65\n",
       "3              5      70\n",
       "4              6      80"
      ]
     },
     "execution_count": 5,
     "metadata": {},
     "output_type": "execute_result"
    }
   ],
   "source": [
    "import pandas as pd\n",
    "\n",
    "data = {\n",
    "    'hours_studied': [2, 3, 4, 5, 6],\n",
    "    'scores': [50, 60, 65, 70, 80]\n",
    "}\n",
    "\n",
    "df = pd.DataFrame(data)\n",
    "df"
   ]
  },
  {
   "cell_type": "code",
   "execution_count": 9,
   "metadata": {},
   "outputs": [
    {
     "data": {
      "image/png": "[encoded data removed]",
      "text/plain": [
       "<Figure size 640x480 with 1 Axes>"
      ]
     },
     "metadata": {},
     "output_type": "display_data"
    },
    {
     "name": "stdout",
     "output_type": "stream",
     "text": [
      "Coefficient (slope): [7.]\n",
      "Intercept: [37.]\n"
     ]
    }
   ],
   "source": [
    "import numpy as np\n",
    "import matplotlib.pyplot as plt\n",
    "from sklearn.linear_model import LinearRegression\n",
    "\n",
    "# Tạo mô hình Linear Regression\n",
    "model = LinearRegression()\n",
    "\n",
    "# Chia dữ liệu thành biến độc lập và phụ thuộc\n",
    "X = df[['hours_studied']].values\n",
    "y = df[['scores']].values\n",
    "\n",
    "# Huấn luyện mô hình\n",
    "model.fit(X, y)\n",
    "\n",
    "# Dự đoán\n",
    "predictions = model.predict(X)\n",
    "\n",
    "# Vẽ đồ thị\n",
    "plt.scatter(X, y, color=\"blue\", label=\"Actual Scores\")\n",
    "plt.plot(X, predictions, color=\"red\", label=\"Predicted line\")\n",
    "plt.xlabel('Hours Studied')\n",
    "plt.ylabel(\"Scores\")\n",
    "plt.legend()\n",
    "plt.show()\n",
    "\n",
    "print(f\"Coefficient (slope): {model.coef_[0]}\")\n",
    "print(f\"Intercept: {model.intercept_}\")"
   ]
  },
  {
   "cell_type": "markdown",
   "metadata": {},
   "source": [
    "## 1.2 Multiple Linear Regression\n",
    "### Mục tiêu: Dự đoán điểm thi dựa trên số giờ học và số giờ ngủ."
   ]
  },
  {
   "cell_type": "code",
   "execution_count": 11,
   "metadata": {},
   "outputs": [
    {
     "data": {
      "text/html": [
       "<div>\n",
       "<style scoped>\n",
       "    .dataframe tbody tr th:only-of-type {\n",
       "        vertical-align: middle;\n",
       "    }\n",
       "\n",
       "    .dataframe tbody tr th {\n",
       "        vertical-align: top;\n",
       "    }\n",
       "\n",
       "    .dataframe thead th {\n",
       "        text-align: right;\n",
       "    }\n",
       "</style>\n",
       "<table border=\"1\" class=\"dataframe\">\n",
       "  <thead>\n",
       "    <tr style=\"text-align: right;\">\n",
       "      <th></th>\n",
       "      <th>hours_studied</th>\n",
       "      <th>hours_slept</th>\n",
       "      <th>scores</th>\n",
       "    </tr>\n",
       "  </thead>\n",
       "  <tbody>\n",
       "    <tr>\n",
       "      <th>0</th>\n",
       "      <td>2</td>\n",
       "      <td>6</td>\n",
       "      <td>50</td>\n",
       "    </tr>\n",
       "    <tr>\n",
       "      <th>1</th>\n",
       "      <td>3</td>\n",
       "      <td>5</td>\n",
       "      <td>60</td>\n",
       "    </tr>\n",
       "    <tr>\n",
       "      <th>2</th>\n",
       "      <td>4</td>\n",
       "      <td>7</td>\n",
       "      <td>65</td>\n",
       "    </tr>\n",
       "    <tr>\n",
       "      <th>3</th>\n",
       "      <td>5</td>\n",
       "      <td>8</td>\n",
       "      <td>70</td>\n",
       "    </tr>\n",
       "    <tr>\n",
       "      <th>4</th>\n",
       "      <td>6</td>\n",
       "      <td>5</td>\n",
       "      <td>80</td>\n",
       "    </tr>\n",
       "  </tbody>\n",
       "</table>\n",
       "</div>"
      ],
      "text/plain": [
       "   hours_studied  hours_slept  scores\n",
       "0              2            6      50\n",
       "1              3            5      60\n",
       "2              4            7      65\n",
       "3              5            8      70\n",
       "4              6            5      80"
      ]
     },
     "execution_count": 11,
     "metadata": {},
     "output_type": "execute_result"
    }
   ],
   "source": [
    "data = {\n",
    "    'hours_studied': [2, 3, 4, 5, 6],\n",
    "    'hours_slept': [6, 5, 7, 8, 5],\n",
    "    'scores': [50, 60, 65, 70, 80]\n",
    "}\n",
    "\n",
    "df = pd.DataFrame(data)\n",
    "df"
   ]
  },
  {
   "cell_type": "code",
   "execution_count": 12,
   "metadata": {},
   "outputs": [
    {
     "name": "stdout",
     "output_type": "stream",
     "text": [
      "Coefficients: [ 7.10447761 -1.04477612]\n",
      "Intercept: 43.05970149253729\n"
     ]
    }
   ],
   "source": [
    "# Tạo mô hình Multiple Linear Regression\n",
    "model = LinearRegression()\n",
    "\n",
    "# Chia dữ liệu thành biến độc lập và phụ thuộc\n",
    "X = df[['hours_studied', 'hours_slept']].values\n",
    "y = df['scores'].values\n",
    "\n",
    "# Huấn luyện mô hình\n",
    "model.fit(X, y)\n",
    "\n",
    "# Dự đoán\n",
    "predictions = model.predict(X)\n",
    "\n",
    "# In hệ số\n",
    "print(f\"Coefficients: {model.coef_}\")\n",
    "print(f\"Intercept: {model.intercept_}\")"
   ]
  },
  {
   "cell_type": "markdown",
   "metadata": {},
   "source": [
    "## 1.3 Polynomial Regression\n",
    "### Mục tiêu: Dự đoán điểm thi dựa trên số giờ học với mô hình phi tuyến."
   ]
  },
  {
   "cell_type": "code",
   "execution_count": 14,
   "metadata": {},
   "outputs": [
    {
     "data": {
      "text/html": [
       "<div>\n",
       "<style scoped>\n",
       "    .dataframe tbody tr th:only-of-type {\n",
       "        vertical-align: middle;\n",
       "    }\n",
       "\n",
       "    .dataframe tbody tr th {\n",
       "        vertical-align: top;\n",
       "    }\n",
       "\n",
       "    .dataframe thead th {\n",
       "        text-align: right;\n",
       "    }\n",
       "</style>\n",
       "<table border=\"1\" class=\"dataframe\">\n",
       "  <thead>\n",
       "    <tr style=\"text-align: right;\">\n",
       "      <th></th>\n",
       "      <th>hours_studied</th>\n",
       "      <th>scores</th>\n",
       "    </tr>\n",
       "  </thead>\n",
       "  <tbody>\n",
       "    <tr>\n",
       "      <th>0</th>\n",
       "      <td>1</td>\n",
       "      <td>20</td>\n",
       "    </tr>\n",
       "    <tr>\n",
       "      <th>1</th>\n",
       "      <td>2</td>\n",
       "      <td>30</td>\n",
       "    </tr>\n",
       "    <tr>\n",
       "      <th>2</th>\n",
       "      <td>3</td>\n",
       "      <td>50</td>\n",
       "    </tr>\n",
       "    <tr>\n",
       "      <th>3</th>\n",
       "      <td>4</td>\n",
       "      <td>65</td>\n",
       "    </tr>\n",
       "    <tr>\n",
       "      <th>4</th>\n",
       "      <td>5</td>\n",
       "      <td>70</td>\n",
       "    </tr>\n",
       "    <tr>\n",
       "      <th>5</th>\n",
       "      <td>6</td>\n",
       "      <td>75</td>\n",
       "    </tr>\n",
       "    <tr>\n",
       "      <th>6</th>\n",
       "      <td>7</td>\n",
       "      <td>85</td>\n",
       "    </tr>\n",
       "    <tr>\n",
       "      <th>7</th>\n",
       "      <td>8</td>\n",
       "      <td>90</td>\n",
       "    </tr>\n",
       "  </tbody>\n",
       "</table>\n",
       "</div>"
      ],
      "text/plain": [
       "   hours_studied  scores\n",
       "0              1      20\n",
       "1              2      30\n",
       "2              3      50\n",
       "3              4      65\n",
       "4              5      70\n",
       "5              6      75\n",
       "6              7      85\n",
       "7              8      90"
      ]
     },
     "execution_count": 14,
     "metadata": {},
     "output_type": "execute_result"
    }
   ],
   "source": [
    "data = {\n",
    "    'hours_studied': [1, 2, 3, 4, 5, 6, 7, 8],\n",
    "    'scores': [20, 30, 50, 65, 70, 75, 85, 90]\n",
    "}\n",
    "\n",
    "df = pd.DataFrame(data)\n",
    "df"
   ]
  },
  {
   "cell_type": "code",
   "execution_count": 15,
   "metadata": {},
   "outputs": [
    {
     "data": {
      "image/png": "[encoded data removed]",
      "text/plain": [
       "<Figure size 640x480 with 1 Axes>"
      ]
     },
     "metadata": {},
     "output_type": "display_data"
    }
   ],
   "source": [
    "from sklearn.preprocessing import PolynomialFeatures\n",
    "from sklearn.pipeline import make_pipeline\n",
    "\n",
    "# Tạo mô hình Polynomial Regression với bậc 2\n",
    "degree = 2\n",
    "model = make_pipeline(PolynomialFeatures(degree), LinearRegression())\n",
    "\n",
    "# Chia dữ liệu thành biến độc lập và phụ thuộc\n",
    "X = df[['hours_studied']].values\n",
    "y = df['scores'].values\n",
    "\n",
    "# Huấn luyện mô hình\n",
    "model.fit(X, y)\n",
    "\n",
    "# Dự đoán\n",
    "predictions = model.predict(X)\n",
    "\n",
    "# Vẽ đồ thị\n",
    "plt.scatter(X, y, color='blue', label='Actual scores')\n",
    "plt.scatter(X, predictions, color='red', label='Predicted curve')\n",
    "plt.xlabel('Hours Studied')\n",
    "plt.ylabel('Scores')\n",
    "plt.legend()\n",
    "plt.show()"
   ]
  },
  {
   "cell_type": "markdown",
   "metadata": {},
   "source": [
    "## 1.4 Lasso và Ridge Regression\n",
    "### Mục tiêu: Sử dụng Lasso và Ridge để giảm thiểu overfitting"
   ]
  },
  {
   "cell_type": "code",
   "execution_count": 16,
   "metadata": {},
   "outputs": [
    {
     "data": {
      "text/html": [
       "<div>\n",
       "<style scoped>\n",
       "    .dataframe tbody tr th:only-of-type {\n",
       "        vertical-align: middle;\n",
       "    }\n",
       "\n",
       "    .dataframe tbody tr th {\n",
       "        vertical-align: top;\n",
       "    }\n",
       "\n",
       "    .dataframe thead th {\n",
       "        text-align: right;\n",
       "    }\n",
       "</style>\n",
       "<table border=\"1\" class=\"dataframe\">\n",
       "  <thead>\n",
       "    <tr style=\"text-align: right;\">\n",
       "      <th></th>\n",
       "      <th>hours_studied</th>\n",
       "      <th>hours_slept</th>\n",
       "      <th>scores</th>\n",
       "    </tr>\n",
       "  </thead>\n",
       "  <tbody>\n",
       "    <tr>\n",
       "      <th>0</th>\n",
       "      <td>2</td>\n",
       "      <td>6</td>\n",
       "      <td>50</td>\n",
       "    </tr>\n",
       "    <tr>\n",
       "      <th>1</th>\n",
       "      <td>3</td>\n",
       "      <td>5</td>\n",
       "      <td>60</td>\n",
       "    </tr>\n",
       "    <tr>\n",
       "      <th>2</th>\n",
       "      <td>4</td>\n",
       "      <td>7</td>\n",
       "      <td>65</td>\n",
       "    </tr>\n",
       "    <tr>\n",
       "      <th>3</th>\n",
       "      <td>5</td>\n",
       "      <td>8</td>\n",
       "      <td>70</td>\n",
       "    </tr>\n",
       "    <tr>\n",
       "      <th>4</th>\n",
       "      <td>6</td>\n",
       "      <td>5</td>\n",
       "      <td>80</td>\n",
       "    </tr>\n",
       "    <tr>\n",
       "      <th>5</th>\n",
       "      <td>7</td>\n",
       "      <td>6</td>\n",
       "      <td>90</td>\n",
       "    </tr>\n",
       "  </tbody>\n",
       "</table>\n",
       "</div>"
      ],
      "text/plain": [
       "   hours_studied  hours_slept  scores\n",
       "0              2            6      50\n",
       "1              3            5      60\n",
       "2              4            7      65\n",
       "3              5            8      70\n",
       "4              6            5      80\n",
       "5              7            6      90"
      ]
     },
     "execution_count": 16,
     "metadata": {},
     "output_type": "execute_result"
    }
   ],
   "source": [
    "data = {\n",
    "    'hours_studied': [2, 3, 4, 5, 6, 7],\n",
    "    'hours_slept': [6, 5, 7, 8, 5, 6],\n",
    "    'scores': [50, 60, 65, 70, 80, 90]\n",
    "}\n",
    "\n",
    "df = pd.DataFrame(data)\n",
    "df"
   ]
  },
  {
   "cell_type": "code",
   "execution_count": 17,
   "metadata": {},
   "outputs": [
    {
     "name": "stdout",
     "output_type": "stream",
     "text": [
      "Lasso Coefficients: [ 7.56787696 -1.07569831]\n",
      "Ridge Coefficients: [ 7.56097227 -1.14622396]\n"
     ]
    }
   ],
   "source": [
    "from sklearn.linear_model import Lasso, Ridge\n",
    "\n",
    "# Chia dữ liệu thành biến độc lập và phụ thuộc\n",
    "X = df[['hours_studied', 'hours_slept']].values\n",
    "y = df['scores'].values\n",
    "\n",
    "# Lasso Regression\n",
    "lasso_model = Lasso(alpha=0.1)\n",
    "lasso_model.fit(X, y)\n",
    "print(f\"Lasso Coefficients: {lasso_model.coef_}\")\n",
    "\n",
    "# Ridge Regression\n",
    "ridge_model = Ridge(alpha=0.1)\n",
    "ridge_model.fit(X, y)\n",
    "print(f\"Ridge Coefficients: {ridge_model.coef_}\")"
   ]
  },
  {
   "cell_type": "markdown",
   "metadata": {},
   "source": [
    "## 1.5 Đánh Giá Mô Hình\n",
    "### Mục tiêu: Sử dụng Mean Squared Error (MSE) để đánh giá mô hình."
   ]
  },
  {
   "cell_type": "code",
   "execution_count": 19,
   "metadata": {},
   "outputs": [
    {
     "data": {
      "text/html": [
       "<div>\n",
       "<style scoped>\n",
       "    .dataframe tbody tr th:only-of-type {\n",
       "        vertical-align: middle;\n",
       "    }\n",
       "\n",
       "    .dataframe tbody tr th {\n",
       "        vertical-align: top;\n",
       "    }\n",
       "\n",
       "    .dataframe thead th {\n",
       "        text-align: right;\n",
       "    }\n",
       "</style>\n",
       "<table border=\"1\" class=\"dataframe\">\n",
       "  <thead>\n",
       "    <tr style=\"text-align: right;\">\n",
       "      <th></th>\n",
       "      <th>hours_studied</th>\n",
       "      <th>scores</th>\n",
       "    </tr>\n",
       "  </thead>\n",
       "  <tbody>\n",
       "    <tr>\n",
       "      <th>0</th>\n",
       "      <td>2</td>\n",
       "      <td>50</td>\n",
       "    </tr>\n",
       "    <tr>\n",
       "      <th>1</th>\n",
       "      <td>3</td>\n",
       "      <td>60</td>\n",
       "    </tr>\n",
       "    <tr>\n",
       "      <th>2</th>\n",
       "      <td>4</td>\n",
       "      <td>65</td>\n",
       "    </tr>\n",
       "    <tr>\n",
       "      <th>3</th>\n",
       "      <td>5</td>\n",
       "      <td>70</td>\n",
       "    </tr>\n",
       "    <tr>\n",
       "      <th>4</th>\n",
       "      <td>6</td>\n",
       "      <td>80</td>\n",
       "    </tr>\n",
       "  </tbody>\n",
       "</table>\n",
       "</div>"
      ],
      "text/plain": [
       "   hours_studied  scores\n",
       "0              2      50\n",
       "1              3      60\n",
       "2              4      65\n",
       "3              5      70\n",
       "4              6      80"
      ]
     },
     "execution_count": 19,
     "metadata": {},
     "output_type": "execute_result"
    }
   ],
   "source": [
    "data = {\n",
    "    'hours_studied': [2, 3, 4, 5, 6],\n",
    "    'scores': [50, 60, 65, 70, 80]\n",
    "}\n",
    "\n",
    "df = pd.DataFrame(data)\n",
    "df"
   ]
  },
  {
   "cell_type": "code",
   "execution_count": 21,
   "metadata": {},
   "outputs": [
    {
     "name": "stdout",
     "output_type": "stream",
     "text": [
      "Mean Squared Error: 79.08110119047537\n"
     ]
    }
   ],
   "source": [
    "from sklearn.metrics import mean_squared_error\n",
    "\n",
    "X = df[['hours_studied']].values\n",
    "y = df['scores'].values\n",
    "\n",
    "# Dự đoán\n",
    "predictions = model.predict(X)\n",
    "\n",
    "# Tính toán MSE\n",
    "mse = mean_squared_error(y, predictions)\n",
    "print(f\"Mean Squared Error: {mse}\")"
   ]
  },
  {
   "cell_type": "markdown",
   "metadata": {},
   "source": [
    "# 2. Hard"
   ]
  },
  {
   "cell_type": "markdown",
   "metadata": {},
   "source": [
    "## 1. Multiple Linear Regression with Feature Engineering"
   ]
  },
  {
   "cell_type": "code",
   "execution_count": 48,
   "metadata": {},
   "outputs": [
    {
     "data": {
      "text/html": [
       "<div>\n",
       "<style scoped>\n",
       "    .dataframe tbody tr th:only-of-type {\n",
       "        vertical-align: middle;\n",
       "    }\n",
       "\n",
       "    .dataframe tbody tr th {\n",
       "        vertical-align: top;\n",
       "    }\n",
       "\n",
       "    .dataframe thead th {\n",
       "        text-align: right;\n",
       "    }\n",
       "</style>\n",
       "<table border=\"1\" class=\"dataframe\">\n",
       "  <thead>\n",
       "    <tr style=\"text-align: right;\">\n",
       "      <th></th>\n",
       "      <th>square_feet</th>\n",
       "      <th>bedrooms</th>\n",
       "      <th>age</th>\n",
       "      <th>price</th>\n",
       "      <th>location_B</th>\n",
       "    </tr>\n",
       "  </thead>\n",
       "  <tbody>\n",
       "    <tr>\n",
       "      <th>0</th>\n",
       "      <td>1500</td>\n",
       "      <td>3</td>\n",
       "      <td>10</td>\n",
       "      <td>300000</td>\n",
       "      <td>False</td>\n",
       "    </tr>\n",
       "    <tr>\n",
       "      <th>1</th>\n",
       "      <td>1600</td>\n",
       "      <td>3</td>\n",
       "      <td>15</td>\n",
       "      <td>320000</td>\n",
       "      <td>True</td>\n",
       "    </tr>\n",
       "    <tr>\n",
       "      <th>2</th>\n",
       "      <td>1700</td>\n",
       "      <td>4</td>\n",
       "      <td>20</td>\n",
       "      <td>350000</td>\n",
       "      <td>False</td>\n",
       "    </tr>\n",
       "    <tr>\n",
       "      <th>3</th>\n",
       "      <td>1800</td>\n",
       "      <td>4</td>\n",
       "      <td>5</td>\n",
       "      <td>400000</td>\n",
       "      <td>True</td>\n",
       "    </tr>\n",
       "    <tr>\n",
       "      <th>4</th>\n",
       "      <td>1900</td>\n",
       "      <td>5</td>\n",
       "      <td>2</td>\n",
       "      <td>450000</td>\n",
       "      <td>False</td>\n",
       "    </tr>\n",
       "    <tr>\n",
       "      <th>5</th>\n",
       "      <td>2000</td>\n",
       "      <td>5</td>\n",
       "      <td>1</td>\n",
       "      <td>500000</td>\n",
       "      <td>True</td>\n",
       "    </tr>\n",
       "  </tbody>\n",
       "</table>\n",
       "</div>"
      ],
      "text/plain": [
       "   square_feet  bedrooms  age   price  location_B\n",
       "0         1500         3   10  300000       False\n",
       "1         1600         3   15  320000        True\n",
       "2         1700         4   20  350000       False\n",
       "3         1800         4    5  400000        True\n",
       "4         1900         5    2  450000       False\n",
       "5         2000         5    1  500000        True"
      ]
     },
     "execution_count": 48,
     "metadata": {},
     "output_type": "execute_result"
    }
   ],
   "source": [
    "import pandas as pd\n",
    "import numpy as np\n",
    "\n",
    "# Tạo dữ liệu giả\n",
    "data = {\n",
    "    'square_feet': [1500, 1600, 1700, 1800, 1900, 2000],\n",
    "    'bedrooms': [3, 3, 4, 4, 5, 5],\n",
    "    'age': [10, 15, 20, 5, 2, 1],  # Tuổi nhà\n",
    "    'location': ['A', 'B', 'A', 'B', 'A', 'B'],\n",
    "    'price': [300000, 320000, 350000, 400000, 450000, 500000]\n",
    "}\n",
    "\n",
    "df = pd.DataFrame(data)\n",
    "\n",
    "# Chuyển đổi biến phân loại thành biến nhị phân\n",
    "df = pd.get_dummies(df, columns=['location'], drop_first=True)\n",
    "df"
   ]
  },
  {
   "cell_type": "code",
   "execution_count": 49,
   "metadata": {},
   "outputs": [
    {
     "name": "stdout",
     "output_type": "stream",
     "text": [
      "Coefficients: [ 4.99990000e+02  1.99996000e+00 -1.62181379e-12  9.99980000e-01]\n",
      "Intercept: -499991.0001799966\n",
      "Mean Squared Error: 1449999999.9999943\n",
      "R^2 Score: -13.499999999999943\n"
     ]
    }
   ],
   "source": [
    "from sklearn.metrics import mean_squared_error, r2_score\n",
    "from sklearn.model_selection import train_test_split\n",
    "from sklearn.linear_model import LinearRegression\n",
    "import matplotlib.pyplot as plt\n",
    "\n",
    "# Chia dữ liệu thành biến độc lập (X) và biến phụ thuộc (y)\n",
    "X = df.drop('price', axis=1)\n",
    "y = df['price']\n",
    "\n",
    "# Chia dữ liệu thành tập huấn luyện và tập kiểm tra\n",
    "X_train, X_test, y_train, y_test = train_test_split(\n",
    "    X, y, test_size=0.2, random_state=42)\n",
    "\n",
    "# Tạo mô hình Multiple Linear Regression\n",
    "model = LinearRegression()\n",
    "\n",
    "# Huấn luyện mô hình\n",
    "model.fit(X_train, y_train)\n",
    "\n",
    "# Dự đoán\n",
    "predictions = model.predict(X_test)\n",
    "\n",
    "# Kết quả\n",
    "print(f\"Coefficients: {model.coef_}\")\n",
    "print(f\"Intercept: {model.intercept_}\")\n",
    "\n",
    "# Đánh giá mô hình\n",
    "\n",
    "mse = mean_squared_error(y_test, predictions)\n",
    "r2 = r2_score(y_test, predictions)\n",
    "\n",
    "print(f\"Mean Squared Error: {mse}\")\n",
    "print(f\"R^2 Score: {r2}\")"
   ]
  },
  {
   "cell_type": "markdown",
   "metadata": {},
   "source": [
    "## Polynomial Regression with Cross-Validation"
   ]
  },
  {
   "cell_type": "code",
   "execution_count": 54,
   "metadata": {},
   "outputs": [
    {
     "data": {
      "text/html": [
       "<div>\n",
       "<style scoped>\n",
       "    .dataframe tbody tr th:only-of-type {\n",
       "        vertical-align: middle;\n",
       "    }\n",
       "\n",
       "    .dataframe tbody tr th {\n",
       "        vertical-align: top;\n",
       "    }\n",
       "\n",
       "    .dataframe thead th {\n",
       "        text-align: right;\n",
       "    }\n",
       "</style>\n",
       "<table border=\"1\" class=\"dataframe\">\n",
       "  <thead>\n",
       "    <tr style=\"text-align: right;\">\n",
       "      <th></th>\n",
       "      <th>hours_studied</th>\n",
       "      <th>scores</th>\n",
       "    </tr>\n",
       "  </thead>\n",
       "  <tbody>\n",
       "    <tr>\n",
       "      <th>0</th>\n",
       "      <td>0.093949</td>\n",
       "      <td>-0.795493</td>\n",
       "    </tr>\n",
       "    <tr>\n",
       "      <th>1</th>\n",
       "      <td>0.101092</td>\n",
       "      <td>-1.705843</td>\n",
       "    </tr>\n",
       "    <tr>\n",
       "      <th>2</th>\n",
       "      <td>0.195939</td>\n",
       "      <td>0.254210</td>\n",
       "    </tr>\n",
       "    <tr>\n",
       "      <th>3</th>\n",
       "      <td>0.301127</td>\n",
       "      <td>-0.220426</td>\n",
       "    </tr>\n",
       "    <tr>\n",
       "      <th>4</th>\n",
       "      <td>0.355180</td>\n",
       "      <td>-1.377892</td>\n",
       "    </tr>\n",
       "    <tr>\n",
       "      <th>...</th>\n",
       "      <td>...</td>\n",
       "      <td>...</td>\n",
       "    </tr>\n",
       "    <tr>\n",
       "      <th>75</th>\n",
       "      <td>4.818314</td>\n",
       "      <td>46.223997</td>\n",
       "    </tr>\n",
       "    <tr>\n",
       "      <th>76</th>\n",
       "      <td>4.882297</td>\n",
       "      <td>48.069661</td>\n",
       "    </tr>\n",
       "    <tr>\n",
       "      <th>77</th>\n",
       "      <td>4.883805</td>\n",
       "      <td>46.610050</td>\n",
       "    </tr>\n",
       "    <tr>\n",
       "      <th>78</th>\n",
       "      <td>4.893092</td>\n",
       "      <td>46.393435</td>\n",
       "    </tr>\n",
       "    <tr>\n",
       "      <th>79</th>\n",
       "      <td>4.941869</td>\n",
       "      <td>49.283534</td>\n",
       "    </tr>\n",
       "  </tbody>\n",
       "</table>\n",
       "<p>80 rows × 2 columns</p>\n",
       "</div>"
      ],
      "text/plain": [
       "    hours_studied     scores\n",
       "0        0.093949  -0.795493\n",
       "1        0.101092  -1.705843\n",
       "2        0.195939   0.254210\n",
       "3        0.301127  -0.220426\n",
       "4        0.355180  -1.377892\n",
       "..            ...        ...\n",
       "75       4.818314  46.223997\n",
       "76       4.882297  48.069661\n",
       "77       4.883805  46.610050\n",
       "78       4.893092  46.393435\n",
       "79       4.941869  49.283534\n",
       "\n",
       "[80 rows x 2 columns]"
      ]
     },
     "execution_count": 54,
     "metadata": {},
     "output_type": "execute_result"
    }
   ],
   "source": [
    "import numpy as np\n",
    "import pandas as pd\n",
    "\n",
    "data = {\n",
    "    'hours_studied': [1, 2, 3, 4, 5, 6],\n",
    "    'scores': [40, 50, 60, 70, 80, 90]\n",
    "}\n",
    "\n",
    "# Tạo dữ liệu phi tuyến\n",
    "np.random.seed(0)\n",
    "X = np.sort(5 * np.random.rand(80, 1), axis=0)\n",
    "y = 2 * (X ** 2) + np.random.randn(80, 1)\n",
    "\n",
    "df = pd.DataFrame(np.hstack((X, y)), columns=['hours_studied', 'scores'])\n",
    "df"
   ]
  },
  {
   "cell_type": "code",
   "execution_count": 55,
   "metadata": {},
   "outputs": [
    {
     "name": "stdout",
     "output_type": "stream",
     "text": [
      "Cross-Validation Scores: [0.29193516 0.86830313 0.86478226 0.93795434 0.97941851]\n",
      "Mean Score: 0.7884786795742518\n"
     ]
    },
    {
     "name": "stderr",
     "output_type": "stream",
     "text": [
      "C:\\Users\\QUOC NHAT\\AppData\\Roaming\\Python\\Python312\\site-packages\\sklearn\\base.py:493: UserWarning: X does not have valid feature names, but PolynomialFeatures was fitted with feature names\n",
      "  warnings.warn(\n"
     ]
    },
    {
     "data": {
      "image/png": "[encoded data removed]",
      "text/plain": [
       "<Figure size 640x480 with 1 Axes>"
      ]
     },
     "metadata": {},
     "output_type": "display_data"
    }
   ],
   "source": [
    "import matplotlib.pyplot as plt\n",
    "from sklearn.preprocessing import PolynomialFeatures\n",
    "from sklearn.model_selection import cross_val_score\n",
    "from sklearn.pipeline import make_pipeline\n",
    "\n",
    "# Tạo mô hình Polynomial Regression\n",
    "degree = 3  # Chọn bậc 3\n",
    "model = make_pipeline(PolynomialFeatures(degree), LinearRegression())\n",
    "\n",
    "# Đánh giá mô hình bằng Cross-Validation\n",
    "scores = cross_val_score(model, df[['hours_studied']], df['scores'], cv=5)\n",
    "print(f\"Cross-Validation Scores: {scores}\")\n",
    "print(f\"Mean Score: {scores.mean()}\")\n",
    "\n",
    "# Huấn luyện mô hình\n",
    "model.fit(df[['hours_studied']], df['scores'])\n",
    "\n",
    "# Vẽ đồ thị\n",
    "\n",
    "X_test = np.linspace(0, 5, 100).reshape(-1, 1)\n",
    "y_pred = model.predict(X_test)\n",
    "\n",
    "plt.scatter(df['hours_studied'], df['scores'],\n",
    "            color='blue', label='Actual Scores')\n",
    "plt.plot(X_test, y_pred, color='red', label='Polynomial Regression Prediction')\n",
    "plt.xlabel('Hours Studied')\n",
    "plt.ylabel('Scores')\n",
    "plt.title('Polynomial Regression with Cross-Validation')\n",
    "plt.legend()\n",
    "plt.show()"
   ]
  },
  {
   "cell_type": "markdown",
   "metadata": {},
   "source": [
    "## Regularization Techniques: Lasso and Ridge with Grid Search"
   ]
  },
  {
   "cell_type": "code",
   "execution_count": 62,
   "metadata": {},
   "outputs": [
    {
     "data": {
      "text/html": [
       "<div>\n",
       "<style scoped>\n",
       "    .dataframe tbody tr th:only-of-type {\n",
       "        vertical-align: middle;\n",
       "    }\n",
       "\n",
       "    .dataframe tbody tr th {\n",
       "        vertical-align: top;\n",
       "    }\n",
       "\n",
       "    .dataframe thead th {\n",
       "        text-align: right;\n",
       "    }\n",
       "</style>\n",
       "<table border=\"1\" class=\"dataframe\">\n",
       "  <thead>\n",
       "    <tr style=\"text-align: right;\">\n",
       "      <th></th>\n",
       "      <th>square_feet</th>\n",
       "      <th>bedrooms</th>\n",
       "      <th>age</th>\n",
       "      <th>garage</th>\n",
       "      <th>price</th>\n",
       "      <th>location</th>\n",
       "    </tr>\n",
       "  </thead>\n",
       "  <tbody>\n",
       "    <tr>\n",
       "      <th>0</th>\n",
       "      <td>1500</td>\n",
       "      <td>3</td>\n",
       "      <td>10</td>\n",
       "      <td>1</td>\n",
       "      <td>300000</td>\n",
       "      <td>False</td>\n",
       "    </tr>\n",
       "    <tr>\n",
       "      <th>1</th>\n",
       "      <td>1600</td>\n",
       "      <td>3</td>\n",
       "      <td>15</td>\n",
       "      <td>1</td>\n",
       "      <td>320000</td>\n",
       "      <td>True</td>\n",
       "    </tr>\n",
       "    <tr>\n",
       "      <th>2</th>\n",
       "      <td>1700</td>\n",
       "      <td>4</td>\n",
       "      <td>20</td>\n",
       "      <td>0</td>\n",
       "      <td>350000</td>\n",
       "      <td>False</td>\n",
       "    </tr>\n",
       "    <tr>\n",
       "      <th>3</th>\n",
       "      <td>1800</td>\n",
       "      <td>4</td>\n",
       "      <td>5</td>\n",
       "      <td>0</td>\n",
       "      <td>400000</td>\n",
       "      <td>True</td>\n",
       "    </tr>\n",
       "    <tr>\n",
       "      <th>4</th>\n",
       "      <td>1900</td>\n",
       "      <td>5</td>\n",
       "      <td>2</td>\n",
       "      <td>1</td>\n",
       "      <td>450000</td>\n",
       "      <td>False</td>\n",
       "    </tr>\n",
       "    <tr>\n",
       "      <th>5</th>\n",
       "      <td>2000</td>\n",
       "      <td>5</td>\n",
       "      <td>1</td>\n",
       "      <td>1</td>\n",
       "      <td>500000</td>\n",
       "      <td>True</td>\n",
       "    </tr>\n",
       "  </tbody>\n",
       "</table>\n",
       "</div>"
      ],
      "text/plain": [
       "   square_feet  bedrooms  age  garage   price  location\n",
       "0         1500         3   10       1  300000     False\n",
       "1         1600         3   15       1  320000      True\n",
       "2         1700         4   20       0  350000     False\n",
       "3         1800         4    5       0  400000      True\n",
       "4         1900         5    2       1  450000     False\n",
       "5         2000         5    1       1  500000      True"
      ]
     },
     "execution_count": 62,
     "metadata": {},
     "output_type": "execute_result"
    }
   ],
   "source": [
    "# Tạo dữ liệu giả\n",
    "data = {\n",
    "    'square_feet': [1500, 1600, 1700, 1800, 1900, 2000],\n",
    "    'bedrooms': [3, 3, 4, 4, 5, 5],\n",
    "    'age': [10, 15, 20, 5, 2, 1],\n",
    "    'location': ['A', 'B', 'A', 'B', 'A', 'B'],\n",
    "    'garage': [1, 1, 0, 0, 1, 1],\n",
    "    'price': [300000, 320000, 350000, 400000, 450000, 500000]\n",
    "}\n",
    "\n",
    "df = pd.DataFrame(data)\n",
    "df = pd.get_dummies(df, columns=['location'], drop_first=True)\n",
    "# Đổi tên cột 'location_B' thành 'location'\n",
    "df.rename(columns={'location_B': 'location'}, inplace=True)\n",
    "\n",
    "df"
   ]
  },
  {
   "cell_type": "code",
   "execution_count": null,
   "metadata": {},
   "outputs": [],
   "source": [
    "from sklearn.linear_model import Lasso, Ridge\n",
    "from sklearn.model_selection import GridSearchCV\n",
    "\n",
    "# Tách dữ liệu\n",
    "X = df.drop('price', axis=1)\n",
    "y = df['price']\n",
    "\n",
    "# Tạo một hàm để kiểm tra Lasso và Ridge\n",
    "\n",
    "\n",
    "def regularization_models(X, y):\n",
    "    params = {'alpha': [0.01, 0.1, 1, 10, 100]}\n",
    "\n",
    "    # Lasso\n",
    "    lasso = Lasso()\n",
    "    grid_lasso = GridSearchCV(lasso, params, cv=5)\n",
    "    grid_lasso.fit(X, y)\n",
    "\n",
    "    # Ridge\n",
    "    ridge = Ridge()\n",
    "    grid_ridge = GridSearchCV(ridge, params, cv=5)\n",
    "    grid_ridge.fit(X, y)\n",
    "\n",
    "    return grid_lasso, grid_ridge\n",
    "\n",
    "\n",
    "# Huấn luyện mô hình\n",
    "grid_lasso, grid_ridge = regularization_models(X, y)\n",
    "\n",
    "print(f\"Best Lasso Model: {grid_lasso.best_estimator_}\")\n",
    "print(f\"Best Ridge Model: {grid_ridge.best_estimator_}\")"
   ]
  },
  {
   "cell_type": "code",
   "execution_count": 71,
   "metadata": {},
   "outputs": [
    {
     "name": "stdout",
     "output_type": "stream",
     "text": [
      "Lasso Predictions: [295348.0420819  324651.8979181  348006.35112367 401993.70887633\n",
      " 456645.54679443 493354.45320557]\n",
      "Ridge Predictions: [295340.41588472 324611.31822783 348023.24565793 402082.790306\n",
      " 456617.36744446 493324.86247906]\n",
      "Lasso MSE: 23259493.671964984\n",
      "Ridge MSE: 23261427.655305486\n",
      "Lasso R^2: 0.995399221031919\n",
      "Ridge R^2: 0.9953988384857637\n"
     ]
    },
    {
     "data": {
      "image/png": "[encoded data removed]",
      "text/plain": [
       "<Figure size 1200x600 with 2 Axes>"
      ]
     },
     "metadata": {},
     "output_type": "display_data"
    }
   ],
   "source": [
    "# Dự đoán giá trị của biến mục tiêu\n",
    "from sklearn.metrics import mean_squared_error, r2_score\n",
    "lasso_predictions = grid_lasso.predict(X)\n",
    "ridge_predictions = grid_ridge.predict(X)\n",
    "\n",
    "# Tính toán độ chính xác (hoặc các chỉ số đánh giá khác)\n",
    "\n",
    "lasso_mse = mean_squared_error(y, lasso_predictions)\n",
    "ridge_mse = mean_squared_error(y, ridge_predictions)\n",
    "\n",
    "lasso_r2 = r2_score(y, lasso_predictions)\n",
    "ridge_r2 = r2_score(y, ridge_predictions)\n",
    "\n",
    "# In ra các kết quả\n",
    "print(f\"Lasso Predictions: {lasso_predictions}\")\n",
    "print(f\"Ridge Predictions: {ridge_predictions}\")\n",
    "print(f\"Lasso MSE: {lasso_mse}\")\n",
    "print(f\"Ridge MSE: {ridge_mse}\")\n",
    "print(f\"Lasso R^2: {lasso_r2}\")\n",
    "print(f\"Ridge R^2: {ridge_r2}\")\n",
    "\n",
    "# Vẽ biểu đồ so sánh dự đoán với giá thực tế\n",
    "\n",
    "plt.figure(figsize=(12, 6))\n",
    "\n",
    "# Biểu đồ dự đoán Lasso\n",
    "plt.subplot(1, 2, 1)\n",
    "plt.scatter(y, lasso_predictions, color='blue')\n",
    "plt.plot([min(y), max(y)], [min(y), max(y)], color='red', linestyle='--')\n",
    "plt.title('Lasso Predictions vs Actual Prices')\n",
    "plt.xlabel('Actual Prices')\n",
    "plt.ylabel('Lasso Predictions')\n",
    "\n",
    "# Biểu đồ dự đoán Ridge\n",
    "plt.subplot(1, 2, 2)\n",
    "plt.scatter(y, ridge_predictions, color='green')\n",
    "plt.plot([min(y), max(y)], [min(y), max(y)], color='red', linestyle='--')\n",
    "plt.title('Ridge Predictions vs Actual Prices')\n",
    "plt.xlabel('Actual Prices')\n",
    "plt.ylabel('Ridge Predictions')\n",
    "\n",
    "plt.tight_layout()\n",
    "plt.show()"
   ]
  }
 ],
 "metadata": {
  "kernelspec": {
   "display_name": "Python 3",
   "language": "python",
   "name": "python3"
  },
  "language_info": {
   "codemirror_mode": {
    "name": "ipython",
    "version": 3
   },
   "file_extension": ".py",
   "mimetype": "text/x-python",
   "name": "python",
   "nbconvert_exporter": "python",
   "pygments_lexer": "ipython3",
   "version": "3.12.1"
  }
 },
 "nbformat": 4,
 "nbformat_minor": 2
}
